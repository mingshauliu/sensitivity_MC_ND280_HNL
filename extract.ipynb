{
 "cells": [
  {
   "cell_type": "code",
   "execution_count": 44,
   "metadata": {},
   "outputs": [],
   "source": [
    "import awkward as awk\n",
    "import matplotlib.pyplot as plt\n",
    "from matplotlib.pyplot import cm\n",
    "from matplotlib.colors import LogNorm\n",
    "import numpy as np\n",
    "import os"
   ]
  },
  {
   "cell_type": "code",
   "execution_count": 2,
   "metadata": {},
   "outputs": [],
   "source": [
    "n_m = 10\n",
    "n_mu = 10\n",
    "m_sample = np.geomspace(0.02,0.4,n_m)\n",
    "mu_sample = np.geomspace(5e-8,1e-2,n_mu)\n",
    "m_sample, mu_sample = np.meshgrid(m_sample, mu_sample)\n",
    "m_sample = np.reshape(m_sample,[n_m*n_mu])\n",
    "mu_sample = np.reshape(mu_sample,[n_m*n_mu])"
   ]
  },
  {
   "cell_type": "code",
   "execution_count": 45,
   "metadata": {},
   "outputs": [],
   "source": [
    "POT = 1e21\n",
    "\n",
    "new_sample = np.array([])\n",
    "new_points = np.array([])\n",
    "\n",
    "recording = np.array([])\n",
    "\n",
    "def extract():\n",
    "    with open('./recording.txt', 'w') as r, open('./new_samples.txt', 'w') as n:\n",
    "        \n",
    "        for m4, tr4 in zip(m_sample, mu_sample):\n",
    "            \n",
    "            path=\"ND280UPGRD_Dipole_M%2.2e_mu%2.2e_example.parquet\"%(m4,tr4)\n",
    "            \n",
    "            if os.path.isfile('output/'+path):\n",
    "                data = awk.from_parquet(\"output/\"+path)\n",
    "                flag = data[\"secondary_types\"]==22 * data[\"in_fiducial\"]\n",
    "                result = [m4,tr4,np.sum(np.transpose(data[\"event_weight\"]*flag*POT)[1][1])*0.0006]\n",
    "                result_string = ', '.join([f'{x:.16e}' for x in result])\n",
    "                r.write(result_string+'\\n')\n",
    "                # f.write(f\"{[m4,tr4,np.sum(np.transpose(data[\"event_weight\"]*flag*POT)[1][1])*0.0006]}\\n\") \n",
    "            else:\n",
    "                result_string = ', '.join([f'{x:.16e}' for x in [m4,tr4]])\n",
    "                n.write(result_string+'\\n')\n",
    "            \n",
    "    return \"Extraction finished\""
   ]
  },
  {
   "cell_type": "code",
   "execution_count": 46,
   "metadata": {},
   "outputs": [
    {
     "data": {
      "text/plain": [
       "'Extraction finished'"
      ]
     },
     "execution_count": 46,
     "metadata": {},
     "output_type": "execute_result"
    }
   ],
   "source": [
    "extract()"
   ]
  },
  {
   "cell_type": "code",
   "execution_count": 66,
   "metadata": {},
   "outputs": [],
   "source": [
    "m_sample_new = []\n",
    "mu_sample_new = []\n",
    "\n",
    "with open('./new_samples.txt','r') as f:\n",
    "    lines = f.readlines()\n",
    "    for line in lines:\n",
    "        i, ii = line.strip().split(', ')\n",
    "        m_sample_new += [float(i)]\n",
    "        mu_sample_new += [float(ii)]\n",
    "        "
   ]
  },
  {
   "cell_type": "markdown",
   "metadata": {},
   "source": [
    "m_sample_new"
   ]
  }
 ],
 "metadata": {
  "kernelspec": {
   "display_name": "Python 3",
   "language": "python",
   "name": "python3"
  },
  "language_info": {
   "codemirror_mode": {
    "name": "ipython",
    "version": 3
   },
   "file_extension": ".py",
   "mimetype": "text/x-python",
   "name": "python",
   "nbconvert_exporter": "python",
   "pygments_lexer": "ipython3",
   "version": "3.12.4"
  }
 },
 "nbformat": 4,
 "nbformat_minor": 2
}
